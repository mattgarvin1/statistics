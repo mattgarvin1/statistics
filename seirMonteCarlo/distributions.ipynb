{
 "cells": [
  {
   "cell_type": "code",
   "execution_count": 257,
   "metadata": {},
   "outputs": [],
   "source": [
    "import numpy.random as R\n",
    "import matplotlib.pyplot as plt\n",
    "import numpy as np\n",
    "import pandas as pd\n",
    "from scipy import stats\n",
    "import json"
   ]
  },
  {
   "cell_type": "code",
   "execution_count": 258,
   "metadata": {},
   "outputs": [
    {
     "name": "stdout",
     "output_type": "stream",
     "text": [
      "(shape, scale): (2.5, 5)\n",
      "mean:  4.444152302007246\n",
      "median:  4.3476876455805975\n"
     ]
    },
    {
     "data": {
      "image/png": "[encoded data removed]",
      "text/plain": [
       "<Figure size 432x288 with 1 Axes>"
      ]
     },
     "metadata": {
      "needs_background": "light"
     },
     "output_type": "display_data"
    }
   ],
   "source": [
    "# shape parameter\n",
    "alpha = 2.5\n",
    "\n",
    "# scale parameter\n",
    "beta = 5\n",
    "\n",
    "# draw from unscaled Weibull distribution with shape alpha\n",
    "samples = R.weibull(alpha, 10000)\n",
    "\n",
    "# scale the distribution by beta\n",
    "samples = np.multiply(samples, beta)\n",
    "\n",
    "# view measures of center and histogram\n",
    "print(\"(shape, scale): (%s, %s)\" % (alpha, beta))\n",
    "print(\"mean: \", np.mean(samples))\n",
    "print(\"median: \", np.median(samples))\n",
    "plt.hist(samples, 20, density=True)\n",
    "plt.show()"
   ]
  },
  {
   "cell_type": "code",
   "execution_count": 259,
   "metadata": {},
   "outputs": [],
   "source": [
    "def weibull(x, alpha, beta):\n",
    "     return (alpha / beta) * (x / beta)**(alpha - 1) * np.exp(-(x / beta)**alpha)"
   ]
  },
  {
   "cell_type": "code",
   "execution_count": 260,
   "metadata": {},
   "outputs": [
    {
     "data": {
      "image/png": "[encoded data removed]",
      "text/plain": [
       "<Figure size 432x288 with 1 Axes>"
      ]
     },
     "metadata": {
      "needs_background": "light"
     },
     "output_type": "display_data"
    }
   ],
   "source": [
    "# visualize density\n",
    "\n",
    "x = np.linspace(0,np.max(samples)+2, 100)\n",
    "plt.plot(x, weibull(x, alpha, beta))\n",
    "plt.show()"
   ]
  },
  {
   "cell_type": "code",
   "execution_count": 261,
   "metadata": {},
   "outputs": [],
   "source": [
    "# test box\n",
    "\n",
    "# a = [1, 2, 3]\n",
    "# np.multiply(a, 3)"
   ]
  },
  {
   "cell_type": "code",
   "execution_count": 286,
   "metadata": {},
   "outputs": [],
   "source": [
    "# functions for tuning Weibull distribution parameters to yield a given mean\n",
    "\n",
    "def weibullMeans(alphaRange, betaRange):\n",
    "    '''\n",
    "    computes expected value for each pair of \n",
    "    (alpha, beta) in the cross-product of arrays alphaRange and betaRange\n",
    "    '''\n",
    "    results = []\n",
    "    for alpha in alphaRange:\n",
    "        for beta in betaRange:\n",
    "            samples = R.weibull(alpha, 10000)\n",
    "            samples = np.multiply(samples, beta) + 1\n",
    "            mu = np.mean(samples)\n",
    "            results.append(((alpha, beta), mu))\n",
    "    return results\n",
    "\n",
    "def filterMeans(means, target, margin):\n",
    "    out = []\n",
    "    for mean in means:\n",
    "        if abs(mean[1] - target) < margin:\n",
    "            out.append(mean)\n",
    "    return out\n",
    "\n",
    "def getClosest(means, target):\n",
    "    minErr = 100\n",
    "    out = ()\n",
    "    for mean in means:\n",
    "        err = abs(mean[1] - target)\n",
    "        if err < minErr:\n",
    "            minErr = err\n",
    "            out = mean\n",
    "    return out\n",
    "\n",
    "def tuneParams(target):\n",
    "    alphaRange = np.linspace(1,4,50)\n",
    "    betaRange = np.linspace(3,12,50)\n",
    "    \n",
    "    unfiltered = weibullMeans(alphaRange, betaRange)\n",
    "    params = getClosest(unfiltered, target)\n",
    "    \n",
    "    return params\n",
    "\n",
    "def tuneToTargets(targets):\n",
    "    out = []\n",
    "    for target in targets:\n",
    "        tuned = tuneParams(target)\n",
    "        r = {\n",
    "            \"target\": target,\n",
    "            \"approx\": tuned[1],\n",
    "            \"error\": abs(target-tuned[1]),\n",
    "            \"alpha\": tuned[0][0],\n",
    "            \"beta\": tuned[0][1]\n",
    "        }\n",
    "        out.append(r)\n",
    "    return out"
   ]
  },
  {
   "cell_type": "code",
   "execution_count": 287,
   "metadata": {},
   "outputs": [],
   "source": [
    "# tune a Weibull distribution for each target mean\n",
    "\n",
    "targets = [4.6, 4, 8, 6, 10]\n",
    "tunedParams = tuneToTargets(targets)"
   ]
  },
  {
   "cell_type": "code",
   "execution_count": 288,
   "metadata": {},
   "outputs": [
    {
     "name": "stdout",
     "output_type": "stream",
     "text": [
      "[\n",
      "    {\n",
      "        \"target\": 4.6,\n",
      "        \"approx\": 4.594235615110799,\n",
      "        \"error\": 0.005764384889200613,\n",
      "        \"alpha\": 2.163265306122449,\n",
      "        \"beta\": 4.1020408163265305\n",
      "    },\n",
      "    {\n",
      "        \"target\": 4,\n",
      "        \"approx\": 3.9995544850714877,\n",
      "        \"error\": 0.0004455149285123028,\n",
      "        \"alpha\": 1.7959183673469388,\n",
      "        \"beta\": 3.36734693877551\n",
      "    },\n",
      "    {\n",
      "        \"target\": 8,\n",
      "        \"approx\": 7.996681240234794,\n",
      "        \"error\": 0.00331875976520557,\n",
      "        \"alpha\": 3.877551020408163,\n",
      "        \"beta\": 7.775510204081633\n",
      "    },\n",
      "    {\n",
      "        \"target\": 6,\n",
      "        \"approx\": 6.000263692322292,\n",
      "        \"error\": 0.000263692322292286,\n",
      "        \"alpha\": 1.306122448979592,\n",
      "        \"beta\": 5.387755102040817\n",
      "    },\n",
      "    {\n",
      "        \"target\": 10,\n",
      "        \"approx\": 9.99962745340359,\n",
      "        \"error\": 0.0003725465964095065,\n",
      "        \"alpha\": 3.7551020408163263,\n",
      "        \"beta\": 9.979591836734695\n",
      "    }\n",
      "]\n"
     ]
    }
   ],
   "source": [
    "# look at those beautifully tuned parameters\n",
    "\n",
    "# HERE! annotate this, make it look nicer, so I know what I'm actually approximating here\n",
    "\n",
    "print(json.dumps(tunedParams, indent=4))"
   ]
  },
  {
   "cell_type": "code",
   "execution_count": 291,
   "metadata": {},
   "outputs": [
    {
     "name": "stdout",
     "output_type": "stream",
     "text": [
      "\n"
     ]
    }
   ],
   "source": [
    "# space\n",
    "'''\n",
    "incubation period -> mu = 4.6 days -> Weibull(2.16,4.10)\n",
    "infectious period / onset to hospitalization -> mu = 4 days -> Weibull(1.8,3.37)\n",
    "length of hospital stay no critical care -> mu = 8 days -> Weibull(3.88,7.78)\n",
    "length of hospital stay leading to critical care -> mu = 6 days -> Weibull(1.31,5.39)\n",
    "length of critical care -> mu = 10 days -> Weibull(3.76,9.98)\n",
    "'''\n",
    "\n",
    "print()"
   ]
  },
  {
   "cell_type": "code",
   "execution_count": 282,
   "metadata": {},
   "outputs": [],
   "source": [
    "# function for estimating pr, ph, pc\n",
    "\n",
    "def drawStrataFreqs(n):\n",
    "    colM, colS, colC = [], [], []\n",
    "    for _ in range(n):\n",
    "    \n",
    "        # draw from each very rough prior\n",
    "        mild = R.triangular(75,80,85)\n",
    "        severe = R.triangular(12,13.8,15)\n",
    "        critical = R.triangular(3,4.7,6)\n",
    "\n",
    "        # compute relative frequencies\n",
    "        total = mild + severe + critical\n",
    "\n",
    "        m = mild / total\n",
    "        s = severe / total\n",
    "        c = critical / total\n",
    "        \n",
    "        colM.append(m)\n",
    "        colS.append(s)\n",
    "        colC.append(c)\n",
    "    return pd.DataFrame({\"mild\": colM, \"severe\": colS, \"critical\": colC})"
   ]
  },
  {
   "cell_type": "code",
   "execution_count": 283,
   "metadata": {},
   "outputs": [],
   "source": [
    "df = drawStrataFreqs(10000)"
   ]
  },
  {
   "cell_type": "code",
   "execution_count": 284,
   "metadata": {},
   "outputs": [
    {
     "data": {
      "text/plain": [
       "mild        0.814913\n",
       "severe      0.138565\n",
       "critical    0.046522\n",
       "dtype: float64"
      ]
     },
     "execution_count": 284,
     "metadata": {},
     "output_type": "execute_result"
    }
   ],
   "source": [
    "df.mean()"
   ]
  },
  {
   "cell_type": "code",
   "execution_count": 285,
   "metadata": {},
   "outputs": [
    {
     "name": "stdout",
     "output_type": "stream",
     "text": [
      "it's monte carlo time\n"
     ]
    }
   ],
   "source": [
    "print(\"it's monte carlo time\")"
   ]
  },
  {
   "cell_type": "code",
   "execution_count": null,
   "metadata": {},
   "outputs": [],
   "source": []
  }
 ],
 "metadata": {
  "kernelspec": {
   "display_name": "Python 3",
   "language": "python",
   "name": "python3"
  },
  "language_info": {
   "codemirror_mode": {
    "name": "ipython",
    "version": 3
   },
   "file_extension": ".py",
   "mimetype": "text/x-python",
   "name": "python",
   "nbconvert_exporter": "python",
   "pygments_lexer": "ipython3",
   "version": "3.7.2"
  }
 },
 "nbformat": 4,
 "nbformat_minor": 4
}
